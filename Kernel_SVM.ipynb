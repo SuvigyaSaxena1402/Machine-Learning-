{
  "nbformat": 4,
  "nbformat_minor": 0,
  "metadata": {
    "colab": {
      "name": "Kernel SVM",
      "provenance": [],
      "collapsed_sections": [],
      "authorship_tag": "ABX9TyPVKMa2WutAwTjQHXqACq8/",
      "include_colab_link": true
    },
    "kernelspec": {
      "name": "python3",
      "display_name": "Python 3"
    }
  },
  "cells": [
    {
      "cell_type": "markdown",
      "metadata": {
        "id": "view-in-github",
        "colab_type": "text"
      },
      "source": [
        "<a href=\"https://colab.research.google.com/github/SuvigyaSaxena1402/Machine-Learning-/blob/master/Kernel_SVM.ipynb\" target=\"_parent\"><img src=\"https://colab.research.google.com/assets/colab-badge.svg\" alt=\"Open In Colab\"/></a>"
      ]
    },
    {
      "cell_type": "code",
      "metadata": {
        "id": "rEslR7g4G1Nn",
        "colab_type": "code",
        "colab": {}
      },
      "source": [
        "import pandas as pd\n",
        "import numpy as np\n",
        "import matplotlib.pyplot as plt"
      ],
      "execution_count": 2,
      "outputs": []
    },
    {
      "cell_type": "code",
      "metadata": {
        "id": "PH9NWuaaHZia",
        "colab_type": "code",
        "colab": {}
      },
      "source": [
        "dataset=pd.read_csv(\"Social_Network_Ads.csv\")\n",
        "x=dataset.iloc[:,:-1].values\n",
        "y=dataset.iloc[:,:-1].values"
      ],
      "execution_count": 5,
      "outputs": []
    },
    {
      "cell_type": "code",
      "metadata": {
        "id": "Ygsi4VMAH1Mo",
        "colab_type": "code",
        "colab": {}
      },
      "source": [
        "from sklearn.model_selection import train_test_split\n",
        "x_train,x_test,y_train,y_test=train_test_split(x,y,test_size=0.2,random_state=0)"
      ],
      "execution_count": 7,
      "outputs": []
    },
    {
      "cell_type": "code",
      "metadata": {
        "id": "cKiVQ_mYIDsQ",
        "colab_type": "code",
        "colab": {}
      },
      "source": [
        "from sklearn.svm import SVC\n",
        "classifier="
      ],
      "execution_count": null,
      "outputs": []
    }
  ]
}